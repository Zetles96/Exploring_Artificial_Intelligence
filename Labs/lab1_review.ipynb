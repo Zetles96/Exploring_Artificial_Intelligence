{
 "cells": [
  {
   "cell_type": "markdown",
   "metadata": {
    "id": "8Sqf8JkhDLGt"
   },
   "source": [
    "# **COMP 2211 Exploring Artificial Intelligence** #\n",
    "## Lab 1: NumPy ##\n",
    "\n",
    "![numpy.png](data:image/png;base64,iVBORw0KGgoAAAANSUhEUgAAAU8AAACWCAMAAABpVfqTAAAAk1BMVEX///9Nd89Nq89Ab81IdM4+bsxEcs2fs+NEqM3q7/k+psxestPX3/P4+v6iz+Pl6/jH0+5TfNH6+/69yuumueV9mttcgtPd5PSMpd7M5O9wkNeQyN9midU4asvT6fLD4O1vudeXreF/wNvg7/agz+Oywuh3vdnb7fTr9fm22unP2fGDnty73eu2xelpi9WLxd0sZMq0JFXZAAAK7klEQVR4nO2dZ2OiMBjHg0AEFAe46hXt8mq1tvf9P90xkpAFQhwdPv83V2Uk/HiSZxA8hEAgEAgEAoFAIBAIBAKBQCAQCAQCgUAgEAgEMtRz+NU9+E16fgo6b1/diV+jlKbX6QTeW/TVPfkNes1pZgIbPV3PjCYQPV2vAk1CFDyToZ4VmmCj5nr9q6OZEwXP1FrVNAsbHcCob6VwkEKrlNcZfHUHf5yityqinjeA8W6gaOBpiHrBn+1X9+znSDI8ZdR7wSfQbKzVQ0dy3eGbYKPB31fxiLcHiJ6qtHpIfboSXkaljQYPEs11L/AgHtUrp1kEQ5KNEqJBby0ecdcL6AFX7OfPEKOZA+opNhoEnXfliOoDblwCTa3JRZJtvj6IjgpyplKrv5qwKOi9Vx+hy+zTnAmIotzS9JmlMl9SbbV1EiCaSRnpR4lu/1QfobiyG9OqtuqRRe89OXpfBTV5/Y17plVdzSPD2XlRy0hRbaWkEwS3XCpZ96rZeMGLPrXcDrwqq/a8wY2no+8VRD2vJlEPXzo6oqk93/T0WUhH1AueRJrhnXiQhigUmanepRnRC/4+i3sMVF+/fRF8WTpv3jLNnXjx/DzqqUUkr8jfJRuNShsNbr1g/+hMRKJs1AcPK3HXknXwIBHdvuSeSR3p21ubSLu27UzEa86JKkZ4J8yuyuZ0HlVtc/sZ9M7f5W+tLrYs2zrIRJWS3IPsqxSi23fJFJ+zBOoWeaZExxvhW4nMSqGpHfWCtp/5FHCbPDOicdUulYUS1UaZWOHpVnlaljs76HbQL7apt1HumNvlaTnJRtlcT7OjrZQIx8g8o36mnTZE3fVrNp6mkJybaj68UJDM8UylBDdVWSizTyVCkpbiyTz9xM2lm13+FZv+9c93eVRD0ixTkjjT7u78wZzA09aM+HVNFckL5KrHVi78KTwd0tRcbcolmy7BUzAbMh6xO5ucuyGBpzPT3bCq2lOgqXrcybtW8XQsdcBdmWfWC3umua+nSBzv2mGoJ+p5ujy9MU8LT5WDr88zJeqe10RFns64YjeZqJ5mG56W/Sgf/BU8UxtSvfAJEnla7qhqR56oxguRfKoFTyuRB8NVeDo4k8Ndc7I7Y0MST2dZvSsl6ikVuTRCein+asPTwkNx2zV4OtNFqv3STkrCszM2JPG03LqblRFVvVCWP3kmPJ2xeF+uwdOm93A+tdk1V6aG7SXzlAx0Lrm/dU+2zeLRqBFPC4uNXYVneUETCtRRXaOxZJ5WIhAcJdNh1aGZ6GN770/xuR1Py+7y267MEy1pX8bnS5YUnmIcM3Jxsq8M0e5YpcSQpzjUzHlGvu/zn8P0s8BIy3NHDdQ9XxCq8LRc3iBHaZPY1hPll5SY8iznMyTx7E4L7els7S/JN/kMH+7zjfnt2O1nFnbuaSAZbpZjBzvjj27JWMszZDx3aEFOLgwYFBdfLiujHkUqT7zgNo/yJnEyVYiK9XpjnrxPEnhObScTZimbn+RfOEWYFaYE063JCA0/kjz8cexxzm+S2EUb6dYFPVjLE1GedowO5OwuP6VPEpz3wW6e56s8LcwNnRFpErsi0bVUYTbmyc8vIk8ChePJLj7jOSY3f17GkngWoujD5a3/I2zEc0TPJ479++LUWMk82vHkDh+xoALbJVE1/2zNc0z7z/kkA55ZIYDDt0BL8XpoBHFkvPdLENzVz0mLcpzckqfllkOw5Jme9h/py4smm9fz9II/FTytPjtzQmcnI56CnEdb+oY4vCP+KAUWktNzzp6waRVO6XjaZYmA58kc70AtMWt56t6poTwTFNMLsJzhSTwd7Lr0KvJ/Hdu16W1zPqp5TumXOcI9+VSm3Jb8hSFPq6ylncDT8540C58YTx91WTxNTMKMpz3b7HZdbtzb03i3uafXVcTTOp4xnWnxPvs4Jx+ZOfZd0rsWOPU8bVZyMebpBU/PuvY4nuVcR3ySEU8ymOZl3aroPA3Wixq5yjPslvnmSDgiIf54gSUYxjzLW2LIU134pOMZjimEAooJTxbdLag/2RefhzQyeRR44u5hszlsulNLqYewWKa4Q7QFp1XypB/vLG0x4pnSXGkbk3iieflwdXQqz9jmN6cpE8UxFXimcUoqoWDH6nUz2mT+aedy9+NEnqyEZcDTUxY+VfLkfJLtn8iT9tSl2SoZvoVDqqsnM++7obckPwUd7u1yUT1P5tPa81QW5dXxRCy+cdJYHPPNnI3nfT1Pt7S/iA747JwRCZZqCsIteNLTtOW5lt/slE1V4sn5pD0SmrkOT4z5gswj3SvMKkHF6doESyJPvOBiZNKttjwlrR46R3iGVumTPpyr8kzzcrwXylJ0r6wJ0n6rYEniuZmU9EgUdhLPrABVlW9SnmheZrRjvplL8cz9USrXnU03Ak3EIvx0zvVNgiWJ5yTi6CXDE3kW5byjPNGBL2BcnGceL2028Wjna4pGxKdbSUjDBZl4K57Mw1k0jmvI0wvkt7docfQ4TyTn3BflecRdk5AJH4qjWwZLSObJVxnyqkojnmmeLkXv5Zu1DXiie3Fy+0qeNAedNdpbI5GnYKCPqBFP9QUlvnDfhKc/5qJr2gwpT1yZZySUrUgxpY0knog7WxZiH+XpefKv3Ihv1jbhifrCiC+a4WOX4shr8EQTvittgyWk8oxL74C7R3mqvxkkv6fciCc6JEoztGOsXn4dnj4397SrLBWSedIZOb/mqJ6naptpfiTNrc14ooUtNzOSymdzVlC6KE9WV7EMgiWk4RmXV2ZP6nhqX5NdNX3eIfHkn1MUzfjs4c5+Hvr9PasQX5jnnBsqbYMlpOHJG+i4mqfGNjMZ8wwdR2qGrTbA2HJsDvdleXLtLo7tqpHKc1TeIDve6Xl6Hdk2ScBkzJPzSaSZkRznX4knjelJRtNSKk/6lDTry0xrny/KSF/3Pos/zHmijSs1Iz+q5JLrS/Kk128QLCEtzx3n4qfC41jS1ZVUsV73Avoc8wSeLE+izYQzHqi7J2Pl4jwJEoNgCWl5ljOI+HS7YmFR/jDeOwNP9GGLRPxlwuay1DeSUhTl6Ug83XPxLByI/l2Co9Lx7FfNXBqeZGlDc57U3DQ8o6JgyDUT32PXtl08fsyGRCzwvJR9kgjcNltXr+PJG2g9T7ZQpDFPFBLpu6NsGvbjw2iu2UzPQ60okk8cCTuE9e1yoiURg2AJVfDkY7Aantyym+Y8v7vIvGEULKEKnmytRB1PYRHT7+FJvHvSurJUSM9zfpSntCTs1/AkQUTbx3BMMcYannwWq+OpLLD7NTyJ6zALljKFXUqU5+nrXDyLP9XX5ap4evLzuG+ufuE5DIOlQv6+eBeH56k10DI/knFW8Qw6dT/h8A1FzBOf9hLicJpVb4ST+CrOJs/jBJ6VP3T5bUUjb/fUFz76aSoi3pSNfSLPn0czNc9/SSZX+0sV7bS7T0QjVxcAt+H5E2nS36EJz/MzAwexHB0rLqk5z59J88Iay1lnU55BB2hqFMszaDOeYJtVmkkGSmsztTyBZqXkJw4NeL7W/Lg6SDLQBjxBddolwPOsEut2NTyDz6/t6A+R35Bn7SsIoFJ91znKs/6FDpCgOff+s54n0GynjSs/G+R4gm22l790K3gCTTPFY1vHE2iaKupmC9wEnmCbJ2m4TASeQPNUxQ59Jj0IgOYZFC3o74cAzbPqxv9nIxAIBAKBQCAQCAQCgUAgEAgEAoFAIBAIBALdtv4DdM7eGruMSdMAAAAASUVORK5CYII=)"
   ]
  },
  {
   "cell_type": "markdown",
   "metadata": {
    "id": "zhBCktDLt38I"
   },
   "source": [
    "# Review\n",
    "\n",
    "Before we start, let's have a quick recap of the lecture."
   ]
  },
  {
   "cell_type": "markdown",
   "metadata": {
    "id": "04eynB7e7ufg"
   },
   "source": [
    "## NumPy\n",
    "NumPy is a popular open-source Python package for scientific computing and is often used in machine learning research. But to know why it is so, we need to define vectorization."
   ]
  },
  {
   "cell_type": "markdown",
   "metadata": {
    "id": "nx_zMMK67yTH"
   },
   "source": [
    "## Vectorization\n",
    "In NumPy, vectorization <font color='red'>means not using explicit `for` loop or `while` loop and indexing</font>. (It doesn't mean we don't index, we just don't often index inside a `for` loop or `while` loop to access the elements). In this way, the code would look nicer and easier to understand. According to [NumPy](https://numpy.org/doc/stable/user/whatisnumpy.html), it is also \"more concise and closely resembles standard mathematical notation\". Here's an example to demonstrate the idea.\n",
    "\n",
    "Suppose we perform the sum of products using a for-loop:\n",
    "\n",
    "```python\n",
    "acc = 0                 # Set accumulator to 0\n",
    "for a, b in zip(x, y):  # Suppose we have two containers x and y with the same length, and we do parallel iteration\n",
    "    acc += a * b        # Compute the sum of products\n",
    "```\n",
    "The same idea can actually be implemented by doing vectorization using NumPy as follows:\n",
    "</p>\n",
    "\n",
    "```python\n",
    "acc = (x * y).sum()     # Compute the sum of products using NumPy\n",
    "```\n",
    "<p align=\"justify\">\n",
    "Note that the latter version is shorter, easy to read and understand, and much cleaner.\n",
    "\n",
    "Another benefit of vectorization is that it allows optimizations. NumPy can perform the operations much faster because NumPy contains pre-compiled binaries, which significantly speed up the calculations. You can run the following code to compare."
   ]
  },
  {
   "cell_type": "code",
   "execution_count": 1,
   "metadata": {
    "colab": {
     "base_uri": "https://localhost:8080/"
    },
    "id": "G1Qw08p5t38P",
    "outputId": "9abafe85-b32b-418e-8c6e-d9a41f9b4a6f",
    "ExecuteTime": {
     "end_time": "2023-09-20T02:42:13.059107400Z",
     "start_time": "2023-09-20T02:42:12.943301700Z"
    }
   },
   "outputs": [
    {
     "name": "stdout",
     "output_type": "stream",
     "text": [
      "333332833333500000\n",
      "The operation took 0.08013081550598145 seconds\n"
     ]
    }
   ],
   "source": [
    "import time\n",
    "\n",
    "\"\"\"\n",
    "    Calculate sum of products using generic Python List and for loop\n",
    "\"\"\"\n",
    "x = list(range(1000000))  # Create a list of integers, 0, 1, 2, ..., 999999\n",
    "y = list(range(1000000))  # Create another list of integers, 0, 1, 2, ..., 999999\n",
    "acc = 0                   # Define accumulator and set it to 0\n",
    "start_time = time.time()  # Start the timer and keep the time\n",
    "for a, b in zip(x, y):\n",
    "    acc += a * b          # Accumulate x * y to count\n",
    "print(acc)                # Print the count\n",
    "end_time = time.time()    # Stop the timer and keep the time\n",
    "print(f'The operation took {end_time - start_time} seconds') # Print the time duration"
   ]
  },
  {
   "cell_type": "code",
   "execution_count": 2,
   "metadata": {
    "colab": {
     "base_uri": "https://localhost:8080/"
    },
    "id": "6VIp3DQtt38T",
    "outputId": "3f21153a-09a8-4628-83b2-03af69abfc68",
    "ExecuteTime": {
     "end_time": "2023-09-20T02:42:19.517641700Z",
     "start_time": "2023-09-20T02:42:19.336374200Z"
    }
   },
   "outputs": [
    {
     "name": "stdout",
     "output_type": "stream",
     "text": [
      "584144992\n",
      "The operation took 0.00801992416381836 seconds\n"
     ]
    }
   ],
   "source": [
    "import numpy as np\n",
    "\n",
    "\"\"\"\n",
    "    Calculate sum of products using NumPy array and functions\n",
    "\"\"\"\n",
    "x = np.arange(1000000)    # Create a NumPy array of integers, 0, 1, 2, ..., 999999\n",
    "y = np.arange(1000000)    # Create another NumPy array of integers, 0, 1, 2, ..., 999999\n",
    "start_time = time.time()  # Start the timer and keep the time\n",
    "acc = (x * y).sum()       # Element-wise multiplication of array x and y, then sum all the elements on the resultant array\n",
    "print(acc)                # Print the count\n",
    "end_time = time.time()    # Stop the timer and keep the time\n",
    "print(f'The operation took {end_time - start_time} seconds') # Print the time duration"
   ]
  },
  {
   "cell_type": "markdown",
   "metadata": {
    "id": "wGAoRzvGt38U"
   },
   "source": [
    "The above example shows that the code written in NumPy runs significantly faster than the one written using the Python list while obtaining the same result. A golden rule to remember is <font color=\"red\">avoiding using loops</font> but trying to write in NumPy or using machine learning libraries. However, there are cases that we might need to use for/while loop, but it is very rare.\n",
    "\n",
    "NumPy also provides many useful functions for getting statistics, such as  [mean](https://numpy.org/doc/stable/reference/generated/numpy.mean.html), [median](https://numpy.org/doc/stable/reference/generated/numpy.median.html), [standard deviation](https://numpy.org/doc/stable/reference/generated/numpy.std.html), etc. Also, many other functions, like generating [random numbers](https://numpy.org/doc/stable/reference/random/index.html), are very important and useful for scientific research, especially machine learning."
   ]
  },
  {
   "cell_type": "markdown",
   "metadata": {
    "id": "PjLy2oIUt38V"
   },
   "source": [
    "# Array\n",
    "\n",
    "All NumPy array is under the class `numpy.ndarray`. Compared to List in Python, there isn't much difference except <font color=\"red\">the length of `numpy.ndarray` is fixed when it is created</font>.\n",
    "\n",
    "`numpy.array` and `List` can store anything we assign to it. However, one important thing is that most of the <font color=\"red\">operations in NumPy require the array to have numerical types</font>. Another problem with such versatility is that some operations might require a specific data type. If we don't take extra precautions to the data types of the array, it could cause catastrophic results. (Imagine you have run your program for two days only to find that the data type is wrong and the result is garbage.) The following shows an example.\n"
   ]
  },
  {
   "cell_type": "code",
   "execution_count": 3,
   "metadata": {
    "colab": {
     "base_uri": "https://localhost:8080/",
     "height": 244
    },
    "id": "I-ch-pEHt38V",
    "outputId": "32957b9e-2386-4ee5-8526-25301eac541f",
    "ExecuteTime": {
     "end_time": "2023-09-20T02:56:30.169507900Z",
     "start_time": "2023-09-20T02:56:29.989646900Z"
    }
   },
   "outputs": [
    {
     "name": "stdout",
     "output_type": "stream",
     "text": [
      "The type of numpy array is <class 'numpy.ndarray'>\n",
      "The data type of the array is object\n"
     ]
    },
    {
     "ename": "TypeError",
     "evalue": "unsupported operand type(s) for +: 'EmptyClass' and 'int'",
     "output_type": "error",
     "traceback": [
      "\u001B[1;31m---------------------------------------------------------------------------\u001B[0m",
      "\u001B[1;31mTypeError\u001B[0m                                 Traceback (most recent call last)",
      "Cell \u001B[1;32mIn [3], line 7\u001B[0m\n\u001B[0;32m      5\u001B[0m \u001B[38;5;28mprint\u001B[39m(\u001B[38;5;124mf\u001B[39m\u001B[38;5;124m'\u001B[39m\u001B[38;5;124mThe type of numpy array is \u001B[39m\u001B[38;5;132;01m{\u001B[39;00m\u001B[38;5;28mtype\u001B[39m(x)\u001B[38;5;132;01m}\u001B[39;00m\u001B[38;5;124m'\u001B[39m)\n\u001B[0;32m      6\u001B[0m \u001B[38;5;28mprint\u001B[39m(\u001B[38;5;124mf\u001B[39m\u001B[38;5;124m'\u001B[39m\u001B[38;5;124mThe data type of the array is \u001B[39m\u001B[38;5;132;01m{\u001B[39;00mx\u001B[38;5;241m.\u001B[39mdtype\u001B[38;5;132;01m}\u001B[39;00m\u001B[38;5;124m'\u001B[39m)\n\u001B[1;32m----> 7\u001B[0m \u001B[43mx\u001B[49m\u001B[43m \u001B[49m\u001B[38;5;241;43m+\u001B[39;49m\u001B[43m \u001B[49m\u001B[38;5;241;43m1\u001B[39;49m  \u001B[38;5;66;03m# This line causes an error!\u001B[39;00m\n",
      "\u001B[1;31mTypeError\u001B[0m: unsupported operand type(s) for +: 'EmptyClass' and 'int'"
     ]
    }
   ],
   "source": [
    "class EmptyClass:\n",
    "    pass # The pass statement is used as a placeholder for future code\n",
    "\n",
    "x = np.array([1,2,3, EmptyClass()])\n",
    "print(f'The type of numpy array is {type(x)}')\n",
    "print(f'The data type of the array is {x.dtype}')\n",
    "x + 1  # This line causes an error!"
   ]
  },
  {
   "cell_type": "markdown",
   "metadata": {
    "id": "Snl-S6hbt38W"
   },
   "source": [
    "## Creating a NumPy array\n",
    "\n",
    "NumPy provides many functions to create arrays. Here are some examples:\n"
   ]
  },
  {
   "cell_type": "code",
   "execution_count": 4,
   "metadata": {
    "colab": {
     "base_uri": "https://localhost:8080/"
    },
    "id": "lqrPNftIt38X",
    "outputId": "71a62ee6-9306-49f5-8c6b-eb87fa2daa7f",
    "ExecuteTime": {
     "end_time": "2023-09-20T02:56:39.172620700Z",
     "start_time": "2023-09-20T02:56:39.131852300Z"
    }
   },
   "outputs": [
    {
     "name": "stdout",
     "output_type": "stream",
     "text": [
      "Content of the array\n",
      "[[1 2 3]\n",
      " [2 3 4]]\n",
      "Shape of the array (2, 3)\n",
      "\n",
      "Content of the array\n",
      "[[1 1 1]\n",
      " [1 1 1]]\n",
      "Shape of the array (2, 3)\n",
      "\n",
      "Content of the array\n",
      "[[0. 0. 0.]\n",
      " [0. 0. 0.]]\n",
      "Shape of the array (2, 3)\n",
      "\n",
      "Content of the array\n",
      "[[[1. 1. 1.]\n",
      "  [1. 1. 1.]\n",
      "  [1. 1. 1.]]\n",
      "\n",
      " [[1. 1. 1.]\n",
      "  [1. 1. 1.]\n",
      "  [1. 1. 1.]]\n",
      "\n",
      " [[1. 1. 1.]\n",
      "  [1. 1. 1.]\n",
      "  [1. 1. 1.]]]\n",
      "Shape of the array (3, 3, 3)\n",
      "\n",
      "Content of the array\n",
      "[0 1 2 3 4 5 6 7 8 9]\n",
      "Shape of the array (10,)\n"
     ]
    }
   ],
   "source": [
    "# A function to print the array content and its shape\n",
    "def print_array(arr):\n",
    "    print(f'Content of the array\\n{arr}\\nShape of the array {arr.shape}')\n",
    "    print()\n",
    "\n",
    "\n",
    "a = np.array([[1, 2, 3], [2, 3, 4]])  # Create array from other iterables (e.g. List)\n",
    "b = np.ones_like(a)     # Create array with same shape and same type as a, but filled with integer 1\n",
    "c = np.zeros(a.shape)   # Create array with shape of other array\n",
    "# no letter e! no zeroes!\n",
    "d = np.ones((3, 3, 3))  # Create array with provided shape (3, 3, 3)\n",
    "e = np.arange(10)       # Create array with 10 consective numbers starting from 0\n",
    "# arange should only be used for integers, for floating point numbers use np.linspace\n",
    "print_array(a)\n",
    "print_array(b)\n",
    "print_array(c)\n",
    "print_array(d)\n",
    "print_array(e)"
   ]
  },
  {
   "cell_type": "markdown",
   "metadata": {
    "id": "PMRI26uXt38X"
   },
   "source": [
    "## Attributes of NumPy array\n",
    "\n",
    "As shown above, we have accessed the attribute <font color=\"red\">``shape``</font> of the array. It shows the <font color=\"red\">number of elements on each axis</font>. Later in the lab, when we mention the first axis, or the n-th axis, it would be derived from this attribute. This also shows the order of the dimension when you're indexing the array, which will be discussed later.\n",
    "\n",
    "Other attributes of the array include,\n",
    "\n",
    "-   ndim   (Number of array dimensions)\n",
    "-   dtype  (Data-type of the array's elements)\n",
    "-   etc.\n"
   ]
  },
  {
   "cell_type": "code",
   "execution_count": 6,
   "metadata": {
    "id": "yBL1WDR2t38Y",
    "ExecuteTime": {
     "end_time": "2023-09-20T02:59:01.173240400Z",
     "start_time": "2023-09-20T02:59:01.147961400Z"
    }
   },
   "outputs": [
    {
     "name": "stdout",
     "output_type": "stream",
     "text": [
      "[0 1 2 3 4 5]\n",
      "(6,)\n",
      "1\n",
      "int32\n",
      "(4,)\n"
     ]
    }
   ],
   "source": [
    "a = np.arange(6)\n",
    "print(a)\n",
    "print(a.shape)  # shape is not a function!  Don't call a.shape()\n",
    "print(a.ndim)\n",
    "print(a.dtype)\n",
    "\n",
    "# What is the shape of the following numpy array?\n",
    "haha = np.array([8, 1, 5, 0])\n",
    "# haha.shape = ... ?\n",
    "print(haha.shape)"
   ]
  },
  {
   "cell_type": "markdown",
   "metadata": {
    "id": "i3g6yPuMt38Z"
   },
   "source": [
    "You can refer to the lecture notes or look into the [official tutorial of NumPy](https://numpy.org/doc/stable/user/basics.creation.html) for functions that can be used to create new arrays.\n",
    "\n",
    "## Indexing\n",
    "\n",
    "NumPy supports the Pythonic way to index ndarray arrays.\n"
   ]
  },
  {
   "cell_type": "code",
   "execution_count": 7,
   "metadata": {
    "colab": {
     "base_uri": "https://localhost:8080/"
    },
    "id": "CESOdkapt38Z",
    "outputId": "46e53337-63c6-4d58-c922-a07391eeaf0d",
    "ExecuteTime": {
     "end_time": "2023-09-20T03:05:14.846304200Z",
     "start_time": "2023-09-20T03:05:14.788446800Z"
    }
   },
   "outputs": [
    {
     "name": "stdout",
     "output_type": "stream",
     "text": [
      "The second element: 1\n",
      "The last element: 99\n",
      "Select from index 10 to 20 (exclusive): [10 11 12 13 14 15 16 17 18 19]\n",
      "Select from index 0 to 10 (exclusive): [0 1 2 3 4 5 6 7 8 9]\n",
      "Select from index 90 to the end of the list: [90 91 92 93 94 95 96 97 98 99]\n",
      "Select from index 10 (count from the end of list) to the end of list: [90 91 92 93 94 95 96 97 98 99]\n",
      "Select from the start of list to the end of list:\n",
      " [ 0  1  2  3  4  5  6  7  8  9 10 11 12 13 14 15 16 17 18 19 20 21 22 23\n",
      " 24 25 26 27 28 29 30 31 32 33 34 35 36 37 38 39 40 41 42 43 44 45 46 47\n",
      " 48 49 50 51 52 53 54 55 56 57 58 59 60 61 62 63 64 65 66 67 68 69 70 71\n",
      " 72 73 74 75 76 77 78 79 80 81 82 83 84 85 86 87 88 89 90 91 92 93 94 95\n",
      " 96 97 98 99]\n",
      "Select from index 1 to 7 (exclusive) with increment 2: [1 3 5]\n",
      "Select from index 7 to 1 (exclusive) with increment -1: [7 6 5 4 3 2]\n"
     ]
    }
   ],
   "source": [
    "import numpy as np\n",
    "\n",
    "a = np.arange(100)  # Create a NumPy array with values, 0, 1, 2, ..., 99\n",
    "print('The second element:', a[1])\n",
    "print('The last element:', a[-1])\n",
    "print('Select from index 10 to 20 (exclusive):', a[10:20])\n",
    "print('Select from index 0 to 10 (exclusive):', a[:10])\n",
    "print('Select from index 90 to the end of the list:', a[90:])\n",
    "print('Select from index 10 (count from the end of list) to the end of list:', a[-10:])\n",
    "print('Select from the start of list to the end of list:\\n', a[:])\n",
    "print('Select from index 1 to 7 (exclusive) with increment 2:', a[1:7:2])\n",
    "print('Select from index 7 to 1 (exclusive) with increment -1:', a[7:1:-1])\n"
   ]
  },
  {
   "cell_type": "markdown",
   "metadata": {
    "id": "VzvTTSh5t38Z"
   },
   "source": [
    "When there is more than one dimension, we can either do `a[0][1]` like regular Python code or `a[0, 1]`. The axis here has the same order as what the `shape` attribute shows.\n"
   ]
  },
  {
   "cell_type": "code",
   "execution_count": null,
   "metadata": {
    "colab": {
     "base_uri": "https://localhost:8080/"
    },
    "id": "XDqnxgMht38a",
    "outputId": "902cffae-920a-4a56-de54-eb18627cceb9"
   },
   "outputs": [
    {
     "name": "stdout",
     "output_type": "stream",
     "text": [
      "[[521 522]\n",
      " [531 532]\n",
      " [541 542]\n",
      " [551 552]]\n",
      "(2, 10, 10)\n"
     ]
    }
   ],
   "source": [
    "a = np.arange(1000).reshape(10, 10, 10)\n",
    "print(a[5, 2:6, 1:3])\n",
    "print(a[3:5, ...].shape)  # We can use ... to select all other dimensions\n"
   ]
  },
  {
   "cell_type": "markdown",
   "source": [
    "Let's try some exercises."
   ],
   "metadata": {
    "id": "0mkmS1qDbETD"
   }
  },
  {
   "cell_type": "code",
   "source": [
    "import numpy as np\n",
    "arr = np.arange(0, 50).reshape(5, 10)\n",
    "arr"
   ],
   "metadata": {
    "colab": {
     "base_uri": "https://localhost:8080/"
    },
    "id": "QroxLmtw9r37",
    "outputId": "4531c0cd-e41b-48f9-e596-02f7cb866b1d"
   },
   "execution_count": null,
   "outputs": [
    {
     "output_type": "execute_result",
     "data": {
      "text/plain": [
       "array([[ 0,  1,  2,  3,  4,  5,  6,  7,  8,  9],\n",
       "       [10, 11, 12, 13, 14, 15, 16, 17, 18, 19],\n",
       "       [20, 21, 22, 23, 24, 25, 26, 27, 28, 29],\n",
       "       [30, 31, 32, 33, 34, 35, 36, 37, 38, 39],\n",
       "       [40, 41, 42, 43, 44, 45, 46, 47, 48, 49]])"
      ]
     },
     "metadata": {},
     "execution_count": 5
    }
   ]
  },
  {
   "cell_type": "markdown",
   "source": [
    "Given the array above, can you slice it correctly?"
   ],
   "metadata": {
    "id": "_XDyHLkJbH3i"
   }
  },
  {
   "cell_type": "code",
   "source": [
    "# how to select the vertical column 5, 15, ...?\n",
    "# output: [ 5, 15, 25, 35, 45]\n"
   ],
   "metadata": {
    "id": "BpCZyj8z-gor"
   },
   "execution_count": null,
   "outputs": []
  },
  {
   "cell_type": "code",
   "source": [
    "# how to select the vertical column 5, 15, ..., but this time preserving the shape?\n",
    "# output: [[ 5],\n",
    "#          [15],\n",
    "#          [25],\n",
    "#          [35],\n",
    "#          [45]]\n"
   ],
   "metadata": {
    "id": "eRDc-2z2i-JO"
   },
   "execution_count": null,
   "outputs": []
  },
  {
   "cell_type": "code",
   "source": [
    "# how to select the following?\n",
    "# output: [[13, 14, 15],\n",
    "#          [23, 24, 25],\n",
    "#          [33, 34, 35]]\n"
   ],
   "metadata": {
    "id": "dAH5mLCTi-MA"
   },
   "execution_count": null,
   "outputs": []
  },
  {
   "cell_type": "code",
   "source": [
    "# how to select the same array, but with all the odd numbers removed?\n",
    "# output: [[ 0,  2,  4,  6,  8],\n",
    "#          [10, 12, 14, 16, 18],\n",
    "#           ...\n",
    "#          [40, 42, 44, 46, 48]]\n"
   ],
   "metadata": {
    "id": "N_KjU9Cai-OQ"
   },
   "execution_count": null,
   "outputs": []
  },
  {
   "cell_type": "code",
   "source": [
    "# how to select the same array, but with all the even numbers removed?\n",
    "# output: [[ 1,  3,  5,  7,  9],\n",
    "#          [11, 13, 15, 17, 19],\n",
    "#           ...\n",
    "#          [41, 43, 45, 47, 49]]\n"
   ],
   "metadata": {
    "id": "Q6hajNbljEJz"
   },
   "execution_count": null,
   "outputs": []
  },
  {
   "cell_type": "markdown",
   "metadata": {
    "id": "4_iLC1o9t38a"
   },
   "source": [
    "## Integer Array Indexing\n",
    "\n",
    "Besides the Pythonic way of indexing (slicing) NumPy arrays, there's a more advanced way to index NumPy arrays using **integer** arrays. (Could be a list or numpy.ndarray with integer dtype)\n"
   ]
  },
  {
   "cell_type": "markdown",
   "metadata": {
    "id": "Snju6f8e2VSY"
   },
   "source": [
    "![](https://i.stack.imgur.com/h1alT.jpg)"
   ]
  },
  {
   "cell_type": "code",
   "execution_count": null,
   "metadata": {
    "colab": {
     "base_uri": "https://localhost:8080/"
    },
    "id": "cfxqJYAOt38a",
    "outputId": "37eb4865-5187-4472-8c6f-1bf3f682a8f2"
   },
   "outputs": [
    {
     "name": "stdout",
     "output_type": "stream",
     "text": [
      "[[0 1]\n",
      " [2 3]\n",
      " [4 5]]\n",
      "[0 3 4]\n"
     ]
    }
   ],
   "source": [
    "a = np.arange(6).reshape(3, 2)  # a = [ [0, 1],\n",
    "                                #       [2, 3],\n",
    "                                #       [4, 5] ]\n",
    "print(a)\n",
    "print(a[[0, 1, 2], [0, 1, 0]])  # Select from index 0, 1, 2 at the first axis and index 0, 1, 0 from the second axis"
   ]
  },
  {
   "cell_type": "markdown",
   "source": [
    "Let's try some exercises."
   ],
   "metadata": {
    "id": "2nWpDiNnbQLd"
   }
  },
  {
   "cell_type": "code",
   "source": [
    "import numpy as np\n",
    "arr = np.arange(0, 50).reshape(5, 10)\n",
    "arr"
   ],
   "metadata": {
    "colab": {
     "base_uri": "https://localhost:8080/"
    },
    "id": "gTIE6eF9B43w",
    "outputId": "fafe8331-0bbc-442b-ec4b-812f6d110e3a"
   },
   "execution_count": null,
   "outputs": [
    {
     "output_type": "execute_result",
     "data": {
      "text/plain": [
       "array([[ 0,  1,  2,  3,  4,  5,  6,  7,  8,  9],\n",
       "       [10, 11, 12, 13, 14, 15, 16, 17, 18, 19],\n",
       "       [20, 21, 22, 23, 24, 25, 26, 27, 28, 29],\n",
       "       [30, 31, 32, 33, 34, 35, 36, 37, 38, 39],\n",
       "       [40, 41, 42, 43, 44, 45, 46, 47, 48, 49]])"
      ]
     },
     "metadata": {},
     "execution_count": 16
    }
   ]
  },
  {
   "cell_type": "markdown",
   "source": [
    "Given the array above, can you index the required elements correctly?"
   ],
   "metadata": {
    "id": "dPLQMMWobUAQ"
   }
  },
  {
   "cell_type": "code",
   "source": [
    "# how to select the rows [10, 11, ...] and the rows [40, 41, ...]?\n",
    "# output: [[10, 11, 12, ..., 19],\n",
    "#          [40, 41, 42, ..., 49]]\n"
   ],
   "metadata": {
    "id": "NP8v4H_UiUVC"
   },
   "execution_count": null,
   "outputs": []
  },
  {
   "cell_type": "code",
   "source": [
    "# how to select the entries divisible by 5?\n",
    "# output: [[ 0,  5],\n",
    "#          [10, 15],\n",
    "#          [20, 25],\n",
    "#          [30, 35],\n",
    "#          [40, 45]]\n"
   ],
   "metadata": {
    "id": "It5WCQkPiUXx"
   },
   "execution_count": null,
   "outputs": []
  },
  {
   "cell_type": "code",
   "source": [
    "# how to swap the first and last row?\n",
    "# output: [[40, 41, 42, 43, 44, 45, 46, 47, 48, 49],\n",
    "#          [10, 11, 12, 13, 14, 15, 16, 17, 18, 19],\n",
    "#          [20, 21, 22, 23, 24, 25, 26, 27, 28, 29],\n",
    "#          [30, 31, 32, 33, 34, 35, 36, 37, 38, 39],\n",
    "#          [ 0,  1,  2,  3,  4,  5,  6,  7,  8,  9]])\n"
   ],
   "metadata": {
    "id": "9lh0HtfhiUak"
   },
   "execution_count": null,
   "outputs": []
  },
  {
   "cell_type": "code",
   "source": [
    "# how to select the diagonal [0, 11, 22, 33, 44]?\n",
    "# output: [0, 11, 22, 33, 44]\n"
   ],
   "metadata": {
    "id": "ADQgBD_SiUdz"
   },
   "execution_count": null,
   "outputs": []
  },
  {
   "cell_type": "code",
   "source": [
    "# how to select the reverse diagonal [40, 31, 22, 13, 4]?\n",
    "# output: [40, 31, 22, 13, 4]\n"
   ],
   "metadata": {
    "id": "HqSgfChgiUf6"
   },
   "execution_count": null,
   "outputs": []
  },
  {
   "cell_type": "code",
   "source": [
    "# how to select every other row and every other column?\n",
    "# output: [[ 0,  2,  4,  6,  8],\n",
    "#          [20, 22, 24, 26, 28],\n",
    "#          [40, 42, 44, 46, 48]]\n"
   ],
   "metadata": {
    "id": "WgMx1QAXiUiO"
   },
   "execution_count": null,
   "outputs": []
  },
  {
   "cell_type": "code",
   "source": [
    "# how to select the following \"step\" diagonal?\n",
    "# output: [[ 0,  1],\n",
    "#          [11, 12],\n",
    "#          [22, 23],\n",
    "#          [33, 34],\n",
    "#          [44, 45]]\n"
   ],
   "metadata": {
    "id": "FJraIAdXiUm8"
   },
   "execution_count": null,
   "outputs": []
  },
  {
   "cell_type": "code",
   "source": [
    "# how to reverse the entries of each row?\n",
    "# output: [[ 9,  8,  7,  6,  5,  4,  3,  2,  1,  0],\n",
    "#          [19, 18, 17, 16, 15, 14, 13, 12, 11, 10],\n",
    "#          [29, 28, 27, 26, 25, 24, 23, 22, 21, 20],\n",
    "#          [39, 38, 37, 36, 35, 34, 33, 32, 31, 30],\n",
    "#          [49, 48, 47, 46, 45, 44, 43, 42, 41, 40]])\n"
   ],
   "metadata": {
    "id": "PfzWK7RHiUpr"
   },
   "execution_count": null,
   "outputs": []
  },
  {
   "cell_type": "code",
   "source": [
    "# how to reverse the entries of each column?\n",
    "# output: [[40, 41, 42, 43, 44, 45, 46, 47, 48, 49],\n",
    "#          [30, 31, 32, 33, 34, 35, 36, 37, 38, 39],\n",
    "#          [20, 21, 22, 23, 24, 25, 26, 27, 28, 29],\n",
    "#          [10, 11, 12, 13, 14, 15, 16, 17, 18, 19],\n",
    "#          [ 0,  1,  2,  3,  4,  5,  6,  7,  8,  9]])\n"
   ],
   "metadata": {
    "id": "UhjSbtRbiloT"
   },
   "execution_count": null,
   "outputs": []
  },
  {
   "cell_type": "code",
   "source": [
    "# Construct the following array without using np.eye(...)\n",
    "# output: [[1, 0, 0, 0, 0],\n",
    "#          [0, 1, 0, 0, 0],\n",
    "#          [0, 0, 1, 0, 0]]\n"
   ],
   "metadata": {
    "id": "_EJBJsZZiorj"
   },
   "execution_count": null,
   "outputs": []
  },
  {
   "cell_type": "markdown",
   "metadata": {
    "id": "4VcDSwUOt38a"
   },
   "source": [
    "The indexing methods above allow us to easily copy and amend the values without writing long codes.\n",
    "\n",
    "## Boolean Array Indexing\n",
    "\n",
    "We can also use True and False to choose individual values. However, this is probably more useful when combining it with [logic functions](https://numpy.org/doc/stable/reference/routines.logic.html) from NumPy.\n"
   ]
  },
  {
   "cell_type": "code",
   "execution_count": null,
   "metadata": {
    "colab": {
     "base_uri": "https://localhost:8080/"
    },
    "id": "nVv4ur8Lt38b",
    "outputId": "969e382a-c5eb-464f-8060-96c58394cc2e"
   },
   "outputs": [
    {
     "name": "stdout",
     "output_type": "stream",
     "text": [
      "[0 1 2 4 5 6 7 9]\n"
     ]
    }
   ],
   "source": [
    "a = np.arange(12).reshape(3, 4)  # [ [0 1 2 3]\n",
    "                                 #   [4 5 6 7]\n",
    "                                 #   [8 9 10 11] ]\n",
    "selection = np.array([[True, True, True, False],\n",
    "                      [True, True, True, True],\n",
    "                      [False, True, False, False]])\n",
    "print(a[selection])  # Boolean Array Indexing"
   ]
  },
  {
   "cell_type": "code",
   "execution_count": null,
   "metadata": {
    "colab": {
     "base_uri": "https://localhost:8080/"
    },
    "id": "2bXA12xJt38b",
    "outputId": "d56aeb1d-26fe-475e-e92d-fc6aecf4314f"
   },
   "outputs": [
    {
     "name": "stdout",
     "output_type": "stream",
     "text": [
      "[[ True  True  True  True]\n",
      " [ True  True False False]\n",
      " [False False False  True]]\n"
     ]
    },
    {
     "data": {
      "text/plain": [
       "array([ 0,  1,  2,  3,  4,  5, 11])"
      ]
     },
     "execution_count": 10,
     "metadata": {},
     "output_type": "execute_result"
    }
   ],
   "source": [
    "# a = [ [0 1 2 3]\n",
    "#       [4 5 6 7]\n",
    "#       [8 9 10 11] ]\n",
    "selection1 = a < 6   # Comparison, return a 2D array with True value for those entry values < 6, and False otherwise\n",
    "selection2 = a > 10  # Comparison, return a 2D array with True value for those entry values > 10, and False otherwise\n",
    "selection = np.logical_or(selection1, selection2)  # Logical OR, return a 2D array with True value for those entry value < 6 OR value > 10, false otherwise\n",
    "selection = selection1 | selection2  # Same as the previous line\n",
    "print(selection)\n",
    "\n",
    "a[selection]"
   ]
  },
  {
   "cell_type": "markdown",
   "source": [
    "Let's try some exercises."
   ],
   "metadata": {
    "id": "17te2S2Hbn63"
   }
  },
  {
   "cell_type": "code",
   "source": [
    "import numpy as np\n",
    "arr = np.arange(0, 50).reshape(5, 10)\n",
    "arr"
   ],
   "metadata": {
    "colab": {
     "base_uri": "https://localhost:8080/"
    },
    "id": "tU09LaKMImIR",
    "outputId": "741b089c-e841-4b47-d262-ceb10a98d73f"
   },
   "execution_count": null,
   "outputs": [
    {
     "output_type": "execute_result",
     "data": {
      "text/plain": [
       "array([[ 0,  1,  2,  3,  4,  5,  6,  7,  8,  9],\n",
       "       [10, 11, 12, 13, 14, 15, 16, 17, 18, 19],\n",
       "       [20, 21, 22, 23, 24, 25, 26, 27, 28, 29],\n",
       "       [30, 31, 32, 33, 34, 35, 36, 37, 38, 39],\n",
       "       [40, 41, 42, 43, 44, 45, 46, 47, 48, 49]])"
      ]
     },
     "metadata": {},
     "execution_count": 9
    }
   ]
  },
  {
   "cell_type": "markdown",
   "source": [
    "Given the above array, can you generate the correct arrays as required below?"
   ],
   "metadata": {
    "id": "gxBW0fvTbqY1"
   }
  },
  {
   "cell_type": "code",
   "source": [
    "# how to change each value divisible by 3 into -1?\n",
    "# output: [[-1,  1,  2, -1,  4,  5, -1,  7,  8, -1],\n",
    "#          [10, 11, -1, 13, 14, -1, 16, 17, -1, 19],\n",
    "#          [20, -1, 22, 23, -1, 25, 26, -1, 28, 29],\n",
    "#          [-1, 31, 32, -1, 34, 35, -1, 37, 38, -1],\n",
    "#          [40, 41, -1, 43, 44, -1, 46, 47, -1, 49]]\n"
   ],
   "metadata": {
    "id": "-ds-Tn-HIq_g"
   },
   "execution_count": null,
   "outputs": []
  },
  {
   "cell_type": "code",
   "source": [
    "# how to generate a boolean mask of arr, where each entry is TRUE if the entry is divisible by 3, and false otherwise?\n",
    "# output: [[ True, False, False,  True, False, False,  True, False, False,  True],\n",
    "#          [False, False,  True, False, False,  True, False, False,  True, False],\n",
    "#          [False,  True, False, False,  True, False, False,  True, False, False],\n",
    "#          [ True, False, False,  True, False, False,  True, False, False,  True],\n",
    "#          [False, False,  True, False, False,  True, False, False,  True, False]]\n"
   ],
   "metadata": {
    "id": "LTs45HHzj_Xx"
   },
   "execution_count": null,
   "outputs": []
  },
  {
   "cell_type": "code",
   "source": [
    "# in the above array, how to change the TRUE entries to 1 and FALSE entries to 0?\n",
    "# output: [[1, 0, 0, 1, 0, 0, 1, 0, 0, 1],\n",
    "#          [0, 0, 1, 0, 0, 1, 0, 0, 1, 0],\n",
    "#          [0, 1, 0, 0, 1, 0, 0, 1, 0, 0],\n",
    "#          [1, 0, 0, 1, 0, 0, 1, 0, 0, 1],\n",
    "#          [0, 0, 1, 0, 0, 1, 0, 0, 1, 0]]\n"
   ],
   "metadata": {
    "id": "0SvWKJ7akCVd"
   },
   "execution_count": null,
   "outputs": []
  },
  {
   "cell_type": "code",
   "source": [
    "# how about changing TRUE entries to 0 and FALSE entries to 1 instead?  This time can you do it in one line of code?\n",
    "# output: [[0, 1, 1, 0, 1, 1, 0, 1, 1, 0],\n",
    "#          [1, 1, 0, 1, 1, 0, 1, 1, 0, 1],\n",
    "#          [1, 0, 1, 1, 0, 1, 1, 0, 1, 1],\n",
    "#          [0, 1, 1, 0, 1, 1, 0, 1, 1, 0],\n",
    "#          [1, 1, 0, 1, 1, 0, 1, 1, 0, 1]]\n"
   ],
   "metadata": {
    "id": "3qaUc4H4kEGj"
   },
   "execution_count": null,
   "outputs": []
  },
  {
   "cell_type": "code",
   "source": [
    "# how to select all values that are divisible by 3?\n",
    "# output: [ 0,  3,  6,  9, 12, 15, 18, 21, 24, 27, 30, 33, 36, 39, 42, 45, 48]\n"
   ],
   "metadata": {
    "id": "4h_8U6YNkFg6"
   },
   "execution_count": null,
   "outputs": []
  },
  {
   "cell_type": "code",
   "source": [
    "# Key learning points:\n",
    "# What are the differences between these?\n",
    "# A) arr % 3\n",
    "# B) arr % 3 == 0\n",
    "# C) arr[arr % 3 == 0]\n",
    "# D) arr[arr % 3 == 0] = 1\n",
    "# E) how to turn boolean arrays to arrays with 1s and 0s"
   ],
   "metadata": {
    "id": "BfG_hxLbLXpk"
   },
   "execution_count": null,
   "outputs": []
  },
  {
   "cell_type": "markdown",
   "metadata": {
    "id": "3vRkxlnjt38b"
   },
   "source": [
    "## Data types\n",
    "\n",
    "NumPy array has a type. NumPy usually decides the array type for us, but sometimes we might want to declare or convert the datatype of the array. E.g.  indexing an array.\n"
   ]
  },
  {
   "cell_type": "code",
   "execution_count": null,
   "metadata": {
    "colab": {
     "base_uri": "https://localhost:8080/"
    },
    "id": "22Dxm9yLt38c",
    "outputId": "15f7118e-ed83-4614-fca2-9bf55effa178"
   },
   "outputs": [
    {
     "name": "stdout",
     "output_type": "stream",
     "text": [
      "int64\n",
      "float64\n",
      "object\n"
     ]
    }
   ],
   "source": [
    "class empty:\n",
    "    pass\n",
    "\n",
    "\n",
    "print(np.array([1, 2]).dtype)      # All elements are of type int\n",
    "print(np.array([1, 2, 3.]).dtype)  # The first two elements are of type int, and the third element is of type float, float is a more general type than int\n",
    "print(np.array([1, 2, 3., \"https://www.youtube.com/watch?v=dQw4w9WgXcQ\", empty()]).dtype)  # <object> is the most general type in Python"
   ]
  },
  {
   "cell_type": "code",
   "execution_count": null,
   "metadata": {
    "colab": {
     "base_uri": "https://localhost:8080/",
     "height": 226
    },
    "id": "Wz6qLXGIt38c",
    "outputId": "8ccec7cc-19be-450b-dc8b-2e9230171da3"
   },
   "outputs": [
    {
     "name": "stdout",
     "output_type": "stream",
     "text": [
      "[0 1 2 3 4]\n"
     ]
    },
    {
     "ename": "IndexError",
     "evalue": "ignored",
     "output_type": "error",
     "traceback": [
      "\u001B[0;31m---------------------------------------------------------------------------\u001B[0m",
      "\u001B[0;31mIndexError\u001B[0m                                Traceback (most recent call last)",
      "\u001B[0;32m<ipython-input-12-9021f6fd76c3>\u001B[0m in \u001B[0;36m<module>\u001B[0;34m\u001B[0m\n\u001B[1;32m      3\u001B[0m \u001B[0;34m\u001B[0m\u001B[0m\n\u001B[1;32m      4\u001B[0m \u001B[0mprint\u001B[0m\u001B[0;34m(\u001B[0m\u001B[0ma\u001B[0m\u001B[0;34m[\u001B[0m\u001B[0mb\u001B[0m\u001B[0;34m[\u001B[0m\u001B[0;34m:\u001B[0m\u001B[0;36m5\u001B[0m\u001B[0;34m]\u001B[0m\u001B[0;34m.\u001B[0m\u001B[0mastype\u001B[0m\u001B[0;34m(\u001B[0m\u001B[0mnp\u001B[0m\u001B[0;34m.\u001B[0m\u001B[0mint32\u001B[0m\u001B[0;34m)\u001B[0m\u001B[0;34m]\u001B[0m\u001B[0;34m)\u001B[0m    \u001B[0;31m# Select from index 0 to 5 (exclusive) and convert them to int32\u001B[0m\u001B[0;34m\u001B[0m\u001B[0;34m\u001B[0m\u001B[0m\n\u001B[0;32m----> 5\u001B[0;31m \u001B[0ma\u001B[0m\u001B[0;34m[\u001B[0m\u001B[0mb\u001B[0m\u001B[0;34m]\u001B[0m  \u001B[0;31m# Index a using b, but b is of type float32, so error is raised\u001B[0m\u001B[0;34m\u001B[0m\u001B[0;34m\u001B[0m\u001B[0m\n\u001B[0m",
      "\u001B[0;31mIndexError\u001B[0m: arrays used as indices must be of integer (or boolean) type"
     ]
    }
   ],
   "source": [
    "a = np.arange(10)                   # a = [0 1 2 3 4 5 6 7 8 9]\n",
    "b = np.arange(10, dtype=np.float32) # b = [0.0 1.0 2.0 3.0 4.0 5.0 6.0 7.0 8.0 9.0]\n",
    "\n",
    "print(a[b[:5].astype(np.int32)])    # Select from index 0 to 5 (exclusive) and convert them to int32\n",
    "a[b]  # Index a using b, but b is of type float32, so error is raised"
   ]
  },
  {
   "cell_type": "markdown",
   "metadata": {
    "id": "seerIxtgt38c"
   },
   "source": [
    "## Array Arithmetic\n",
    "\n",
    "NumPy supports elementwise arithmetic operations (+, -, \\*, /) and basic matrix operations (e.g. dot product, transpose. It's okay if you don't know what these are at this point).\n"
   ]
  },
  {
   "cell_type": "code",
   "execution_count": null,
   "metadata": {
    "colab": {
     "base_uri": "https://localhost:8080/"
    },
    "id": "heznChuOt38c",
    "outputId": "07391fe8-b4ea-4f10-ca74-c4231e8da1b3"
   },
   "outputs": [
    {
     "name": "stdout",
     "output_type": "stream",
     "text": [
      "[[10 12 14]\n",
      " [16 18 20]]\n",
      "[[ 35  44]\n",
      " [134 170]]\n"
     ]
    }
   ],
   "source": [
    "a = np.arange(6).reshape(2, 3)        # a = [ [0 1 2]\n",
    "                                      #       [3 4 5] ]\n",
    "b = np.arange(10, 16).reshape(2, 3)   # b = [ [10 11 12]\n",
    "                                      #       [13 14 15] ]\n",
    "print(a + b)\n",
    "print(a @ b.T)  # a @ b.T is equivalent to np.dot(a, b.T). This is called matrix multiplication where b.T is the transpose of b.\n",
    "                # (Again, not necessary for you to know what this means exactly at this point)"
   ]
  },
  {
   "cell_type": "markdown",
   "metadata": {
    "id": "RLAa3_TNt38d"
   },
   "source": [
    "## NumPy Functions\n",
    "\n",
    "NumPy provides many different functions for performing computations on arrays. A few useful ones are\n",
    "- `np.sum(...)`\n",
    "- `np.min(...)`\n",
    "- `np.hstack(...)`\n",
    "- `np.vstack(...)`\n",
    "- `np.newaxis(...)`\n",
    "- `np.expand_dims(...)`\n"
   ]
  },
  {
   "cell_type": "markdown",
   "source": [
    "np.sum(...), np.min(...)"
   ],
   "metadata": {
    "id": "SRswo53gebPf"
   }
  },
  {
   "cell_type": "code",
   "execution_count": null,
   "metadata": {
    "colab": {
     "base_uri": "https://localhost:8080/"
    },
    "id": "seM6x8XNt38d",
    "outputId": "cb071273-9c8b-4c1f-f614-f2af418dc99f"
   },
   "outputs": [
    {
     "name": "stdout",
     "output_type": "stream",
     "text": [
      "[[0 1 2]\n",
      " [3 4 5]]\n",
      "15\n",
      "15\n",
      "[3 5 7]\n",
      "[ 3 12]\n",
      "0\n",
      "[0 1 2]\n",
      "[0 3]\n"
     ]
    }
   ],
   "source": [
    "a = np.arange(6).reshape(2, 3)  # a = [ [0 1 2]\n",
    "                                #       [3 4 5] ]\n",
    "print(a)\n",
    "print(np.sum(a))      # Find the sum of all the elements\n",
    "print(a.sum())        # This is equivalent to the previous line\n",
    "print(a.sum(axis=0))  # Find the sum along the first axis, i.e., the vertical axis, (0+3), (1+4), (2+5)\n",
    "print(a.sum(axis=1))  # Find the sum along the second axis, i.e., the horizontal axis, (0+1+2), (3+4+5)\n",
    "\n",
    "print(a.min())        # Find the min for the whole array\n",
    "print(a.min(axis=0))  # Find the min along the first axis\n",
    "print(a.min(axis=1))  # Fine the min along the second axis\n"
   ]
  },
  {
   "cell_type": "code",
   "source": [
    "# Axis for summing up\n",
    "# Given an array with SHAPE (5, 7, 3, 2, 9)\n",
    "# Many functions in numpy allow you to specify the 'axis' to sum up along, for example\n",
    "# np.sum(axis=...)\n",
    "# the way to understand it is numpy 'sums' along those axes, so in the output shape that number with disappear\n",
    "test = np.zeros((5, 7, 3, 2, 9))\n",
    "test.sum(axis=2) # -> output shape is (5, 7, 2, 9)\n",
    "\n",
    "# most numpy functions also allow you to call them in two ways:\n",
    "# arr.sum(axis=0)\n",
    "# np.sum(arr, axis=0)\n",
    "\n",
    "\n",
    "# how to remove the axis with shape size 2?\n",
    "# output shape: (5, 7, 3, 2, 9)\n",
    "\n",
    "# how to remove more than one dimension?\n",
    "# output shape: (5, 7, 9)\n",
    "\n",
    "# how to preserve the axis?\n",
    "# output shape: (5, 7, 1, 1, 9)\n"
   ],
   "metadata": {
    "colab": {
     "base_uri": "https://localhost:8080/"
    },
    "id": "COJGDSwzwarM",
    "outputId": "9c8d5324-2c5d-421e-d8f9-c10d56848485"
   },
   "execution_count": null,
   "outputs": [
    {
     "output_type": "execute_result",
     "data": {
      "text/plain": [
       "(5, 7, 1, 1, 9)"
      ]
     },
     "metadata": {},
     "execution_count": 5
    }
   ]
  },
  {
   "cell_type": "code",
   "execution_count": null,
   "metadata": {
    "id": "YawiePTs2VSk",
    "outputId": "b916f567-3a03-40ec-c979-504885b1af01"
   },
   "outputs": [
    {
     "name": "stdout",
     "output_type": "stream",
     "text": [
      "[1.         1.22222222 1.44444444 1.66666667 1.88888889 2.11111111\n",
      " 2.33333333 2.55555556 2.77777778 3.        ]\n"
     ]
    }
   ],
   "source": [
    "a = np.linspace(1,3,10) # Return evenly spaced numbers over a specified interval\n",
    "print(a)"
   ]
  },
  {
   "cell_type": "markdown",
   "metadata": {
    "id": "LS2vrJpX2VS3"
   },
   "source": [
    "np.vstack(...), np.hstack(...)\n",
    "\n",
    "if you want to concatenate two arrays and not just add them, you can perform it using two ways – vertical stacking and horizontal stacking"
   ]
  },
  {
   "cell_type": "code",
   "execution_count": null,
   "metadata": {
    "id": "8Q3QiwGy2VS5",
    "outputId": "a68ecc9b-ef61-49bc-d34f-ba9150ccad85"
   },
   "outputs": [
    {
     "name": "stdout",
     "output_type": "stream",
     "text": [
      "[[ 0  1  2]\n",
      " [ 3  4  5]\n",
      " [10 11 12]\n",
      " [13 14 15]]\n",
      "[[ 0  1  2 10 11 12]\n",
      " [ 3  4  5 13 14 15]]\n"
     ]
    }
   ],
   "source": [
    "a = np.arange(6).reshape(2,3)   # a=[[0 1 2]\n",
    "                                #    [3 4 5]]\n",
    "b = np.arange(10,16).reshape(2,3)   # b=[[10 11 12]\n",
    "                                    #    [13 14 15]]\n",
    "print(np.vstack((a,b)))\n",
    "print(np.hstack((a,b)))"
   ]
  },
  {
   "cell_type": "markdown",
   "source": [
    "np.newaxis(...), np.expand_dims(...)"
   ],
   "metadata": {
    "id": "shQ3APyPhb1y"
   }
  },
  {
   "cell_type": "code",
   "source": [
    "import numpy as np\n",
    "a = np.array([0, 1, 2, 3]) # shape (4,)\n",
    "\n",
    "print(np.expand_dims(a, axis=0))  # shape (1, 4)\n",
    "print(np.expand_dims(a, axis=1))  # shape (4, 1)\n",
    "print(np.expand_dims(a, axis=(0, 1, 2)).shape)  # shape (1, 1, 1, 4)\n",
    "print(np.expand_dims(a, axis=(0, 1, 3)).shape)  # shape (1, 1, 4, 1)\n",
    "\n",
    "print(a[np.newaxis, :])  # equivalent to np.expand_dims(a, axis=0)\n",
    "print(a[:, np.newaxis])  # equivalent to np.expand_dims(a, axis=1)"
   ],
   "metadata": {
    "id": "WDkQDzW4hgOD"
   },
   "execution_count": null,
   "outputs": []
  },
  {
   "cell_type": "markdown",
   "metadata": {
    "id": "PjBug_u3t38d"
   },
   "source": [
    "## Broadcasting\n",
    "\n",
    "<font color=\"red\">Broadcasting</font> allows us to <font color=\"red\">perform operations on arrays with different shapes</font>. This function greatly reduces the redundancy of our codes and makes them much more readable and shorter.\n",
    "\n",
    "However, a few rules (and steps) exist for this to work. (You can also refer to notes if it's unclear)\n",
    "1. If the arrays do not have the same rank, prepend the shape of the lower rank array with 1s until both shapes have the same length (pads 1s on the left side of the shape of the array that has fewer dimensions). Dimensions will be matched from the last dimension to the first dimension (according to attribute ```shape```).\n",
    "2. During matching, the dimension could be matched if and only if,\n",
    "   1. They are equal, or\n",
    "   2. One of them is 1\n",
    "3. The arrays can be broadcast together if they are compatible in all dimensions.\n",
    "3. After broadacasting, each array behaves as if it had shape equal to the element-wise maximum of shapes of the two input arrays.\n",
    "4. In any dimension where one array had size 1 and the other array had size greater than 1, the first array behaves as if it were copied along that dimension."
   ]
  },
  {
   "cell_type": "markdown",
   "metadata": {
    "id": "RIdmhWIp2VS7"
   },
   "source": [
    "\n",
    "![](https://numpy.org/doc/stable/_images/broadcasting_2.png)"
   ]
  },
  {
   "cell_type": "code",
   "execution_count": null,
   "metadata": {
    "id": "GVi0Xc1mt38d"
   },
   "outputs": [],
   "source": [
    "import numpy as np\n",
    "\n",
    "a = np.ones((2, 4, 3, 3))\n",
    "\n",
    "b = np.ones((4, 3, 3))\n",
    "_ = a + b  # Ok! Rule 1, b can match all if its dimensions to a from right to left\n",
    "\n",
    "c = np.ones((4, 3, 1))\n",
    "_ = a + c  # Ok! Rule 2.2, dimension can be matched if they're equal or one of them is 1\n",
    "\n"
   ]
  },
  {
   "cell_type": "code",
   "execution_count": null,
   "metadata": {
    "id": "5iCyPeMl2VS8",
    "outputId": "b155674a-f110-418c-a2de-dda8aa0834e7"
   },
   "outputs": [
    {
     "ename": "ValueError",
     "evalue": "operands could not be broadcast together with shapes (2,4,3,3) (2,4,3) ",
     "output_type": "error",
     "traceback": [
      "\u001B[0;31m---------------------------------------------------------------------------\u001B[0m",
      "\u001B[0;31mValueError\u001B[0m                                Traceback (most recent call last)",
      "Cell \u001B[0;32mIn[2], line 4\u001B[0m\n\u001B[1;32m      1\u001B[0m a \u001B[39m=\u001B[39m np\u001B[39m.\u001B[39mones((\u001B[39m2\u001B[39m, \u001B[39m4\u001B[39m, \u001B[39m3\u001B[39m, \u001B[39m3\u001B[39m))\n\u001B[1;32m      3\u001B[0m d \u001B[39m=\u001B[39m np\u001B[39m.\u001B[39mones((\u001B[39m2\u001B[39m, \u001B[39m4\u001B[39m, \u001B[39m3\u001B[39m))\n\u001B[0;32m----> 4\u001B[0m _ \u001B[39m=\u001B[39m a \u001B[39m+\u001B[39;49m d  \u001B[39m# Error ! Rule 1, dimension is matched from the right to left\u001B[39;00m\n",
      "\u001B[0;31mValueError\u001B[0m: operands could not be broadcast together with shapes (2,4,3,3) (2,4,3) "
     ]
    }
   ],
   "source": [
    "a = np.ones((2, 4, 3, 3))\n",
    "\n",
    "d = np.ones((2, 4, 3))\n",
    "_ = a + d  # Error ! Rule 1, dimension is matched from the right to left\n"
   ]
  },
  {
   "cell_type": "code",
   "execution_count": null,
   "metadata": {
    "id": "itjQT0FA2VS9",
    "outputId": "1a664fb4-f50a-44a1-cf29-0ae13a7c8690"
   },
   "outputs": [
    {
     "ename": "ValueError",
     "evalue": "operands could not be broadcast together with shapes (2,4,3,3) (2,2,3,3) ",
     "output_type": "error",
     "traceback": [
      "\u001B[0;31m---------------------------------------------------------------------------\u001B[0m",
      "\u001B[0;31mValueError\u001B[0m                                Traceback (most recent call last)",
      "Cell \u001B[0;32mIn[3], line 2\u001B[0m\n\u001B[1;32m      1\u001B[0m e \u001B[39m=\u001B[39m np\u001B[39m.\u001B[39mones((\u001B[39m2\u001B[39m, \u001B[39m2\u001B[39m, \u001B[39m3\u001B[39m, \u001B[39m3\u001B[39m))\n\u001B[0;32m----> 2\u001B[0m _ \u001B[39m=\u001B[39m a \u001B[39m+\u001B[39;49m e  \u001B[39m# Error! Rule 2, at the second dimension, the dimension is neither matched nor neither is 1\u001B[39;00m\n",
      "\u001B[0;31mValueError\u001B[0m: operands could not be broadcast together with shapes (2,4,3,3) (2,2,3,3) "
     ]
    }
   ],
   "source": [
    "e = np.ones((2, 2, 3, 3))\n",
    "_ = a + e  # Error! Rule 2, at the second dimension, the dimension is neither matched nor neither is 1"
   ]
  },
  {
   "cell_type": "code",
   "execution_count": null,
   "metadata": {
    "id": "q_5AxM3w2VS-",
    "outputId": "4fbf9657-c0dc-46b8-e221-a44469212b6c"
   },
   "outputs": [
    {
     "data": {
      "text/plain": [
       "array([[ 1,  2,  3],\n",
       "       [11, 12, 13],\n",
       "       [21, 22, 23],\n",
       "       [31, 32, 33]])"
      ]
     },
     "execution_count": 4,
     "metadata": {},
     "output_type": "execute_result"
    }
   ],
   "source": [
    "a = np.array([0,10,20,30])\n",
    "b = np.array([1,2,3])\n",
    "c = a[:,np.newaxis] + b # Add a new axis to a, so that a becomes [[0],[10],[20],[30]], then the addition is performed\n",
    "\n",
    "print(c)\n",
    "print(c.shape) # (4, 3) since input arrays have shapes (4,1) and (1,3) , following rule 4"
   ]
  },
  {
   "cell_type": "markdown",
   "metadata": {
    "id": "1b_z-zuC2VTD"
   },
   "source": [
    "![](https://numpy.org/doc/stable/_images/broadcasting_4.png)"
   ]
  },
  {
   "cell_type": "code",
   "source": [
    "# how to generate the following array without using np.array(...)?\n",
    "# output: [[0, 1, 2],\n",
    "#          [0, 1, 2],\n",
    "#          [0, 1, 2],\n",
    "#          [0, 1, 2],\n",
    "#          [0, 1, 2]]\n"
   ],
   "metadata": {
    "id": "R1V3D-naL9Nz"
   },
   "execution_count": null,
   "outputs": []
  },
  {
   "cell_type": "markdown",
   "metadata": {
    "id": "wHgJBN0YE0qw"
   },
   "source": [
    "## Array Transpose and Reshaping\n",
    "\n",
    "In machine learning, most calculations are performed using multi-dimensional arrays. (Remember this as a fact, and you'll see it very soon in later labs.) And since each multi-dimension array contains many different values, operations on these arrays are also more complicated.\n",
    "\n",
    "One of the most common errors we would encounter is the mismatching of shapes. For example, we can't perform addition on arrays with 4 elements and 5 elements. This is because there are no intuitive ways to add them together. If this happens, an error will be raised.\n"
   ]
  },
  {
   "cell_type": "code",
   "execution_count": null,
   "metadata": {
    "colab": {
     "base_uri": "https://localhost:8080/",
     "height": 207
    },
    "id": "9Xp1GoDGE0qx",
    "outputId": "bb55a6a2-d793-488d-deae-765ff5c83585"
   },
   "outputs": [
    {
     "ename": "ValueError",
     "evalue": "ignored",
     "output_type": "error",
     "traceback": [
      "\u001B[0;31m---------------------------------------------------------------------------\u001B[0m",
      "\u001B[0;31mValueError\u001B[0m                                Traceback (most recent call last)",
      "\u001B[0;32m<ipython-input-17-8fe9130ce864>\u001B[0m in \u001B[0;36m<module>\u001B[0;34m\u001B[0m\n\u001B[1;32m      2\u001B[0m \u001B[0mx\u001B[0m \u001B[0;34m=\u001B[0m \u001B[0mnp\u001B[0m\u001B[0;34m.\u001B[0m\u001B[0marange\u001B[0m\u001B[0;34m(\u001B[0m\u001B[0;36m4\u001B[0m\u001B[0;34m)\u001B[0m  \u001B[0;31m# [0 1 2 3]\u001B[0m\u001B[0;34m\u001B[0m\u001B[0;34m\u001B[0m\u001B[0m\n\u001B[1;32m      3\u001B[0m \u001B[0my\u001B[0m \u001B[0;34m=\u001B[0m \u001B[0mnp\u001B[0m\u001B[0;34m.\u001B[0m\u001B[0marange\u001B[0m\u001B[0;34m(\u001B[0m\u001B[0;36m5\u001B[0m\u001B[0;34m)\u001B[0m  \u001B[0;31m# [0 1 2 3 4]\u001B[0m\u001B[0;34m\u001B[0m\u001B[0;34m\u001B[0m\u001B[0m\n\u001B[0;32m----> 4\u001B[0;31m \u001B[0mz\u001B[0m \u001B[0;34m=\u001B[0m \u001B[0mx\u001B[0m \u001B[0;34m+\u001B[0m \u001B[0my\u001B[0m\u001B[0;34m\u001B[0m\u001B[0;34m\u001B[0m\u001B[0m\n\u001B[0m",
      "\u001B[0;31mValueError\u001B[0m: operands could not be broadcast together with shapes (4,) (5,) "
     ]
    }
   ],
   "source": [
    "import numpy as np\n",
    "x = np.arange(4)  # [0 1 2 3]\n",
    "y = np.arange(5)  # [0 1 2 3 4]\n",
    "z = x + y"
   ]
  },
  {
   "cell_type": "markdown",
   "metadata": {
    "id": "3HWi3kH2E0qx"
   },
   "source": [
    "To solve this problem, one way would be to write better code. The code above doesn't make any sense. However, sometimes altering the shape of the arrays could be intended and essential for some operations. Therefore, we need to know how to do it correctly.\n",
    "\n",
    "To demonstrate the importance of choosing the correct functions, we will talk about `numpy.reshape` and `numpy.transpose`. However, there are still many more [array manipulating functions](https://numpy.org/doc/stable/reference/routines.array-manipulation.html). You can read the documentation if you want to know more."
   ]
  },
  {
   "cell_type": "code",
   "execution_count": null,
   "metadata": {
    "colab": {
     "base_uri": "https://localhost:8080/"
    },
    "id": "ibHvdaS8E0qy",
    "outputId": "4f731186-86fa-477a-f6f9-5f9d14bd689b"
   },
   "outputs": [
    {
     "name": "stdout",
     "output_type": "stream",
     "text": [
      "[[0 1 2]\n",
      " [3 4 5]]\n",
      "[[0 2 4]\n",
      " [1 3 5]]\n",
      "[[0 1 2]\n",
      " [3 4 5]]\n"
     ]
    }
   ],
   "source": [
    "import numpy as np\n",
    "\n",
    "x = np.arange(6).reshape((2,3))  # [ [0 1 2]\n",
    "                                 #   [3 4 5] ]\n",
    "y = np.arange(6).reshape((3,2))  # [ [0 1]\n",
    "                                 #   [2 3]\n",
    "                                 #   [4 5] ]\n",
    "z = np.arange(6).reshape((3,2))  # [ [0 1]\n",
    "                                 #   [2 3]\n",
    "                                 #   [4 5] ]\n",
    "\n",
    "print(x)\n",
    "print(y.transpose((1,0)))  # Standard transpose of 2D array\n",
    "print(z.reshape(2,3))      # Reshape z to a 2D array of 2 rows and 3 cols"
   ]
  },
  {
   "cell_type": "markdown",
   "metadata": {
    "id": "gO0R-Q5aE0qy"
   },
   "source": [
    "As you can see, while y and z started the same, they ended up being two very different arrays, even though they share the same shape. This is because, in the mathematical sense, a reshaped matrix is an entirely different matrix. There are, in fact, no such operations that resemble the functions of `reshape` in mathematics. However, transpose is an actual mathematical operation in linear algebra. It simply flips the matrix diagonally (draw a diagonal line from top left to bottom right and flip along that line).\n",
    "$$\n",
    "\\begin{align}\n",
    "    \\begin{pmatrix}\n",
    "    0 & 1 & 2 \\\\\n",
    "    3 & 4 & 5 \\\\\n",
    "    6 & 7 & 8\n",
    "    \\end{pmatrix} ^T =\n",
    "    \\begin{pmatrix}\n",
    "    0 & 3 & 6 \\\\\n",
    "    1 & 4 & 7 \\\\\n",
    "    2 & 5 & 8\n",
    "    \\end{pmatrix}\n",
    "\\end{align}\n",
    "$$"
   ]
  },
  {
   "cell_type": "code",
   "execution_count": null,
   "metadata": {
    "colab": {
     "base_uri": "https://localhost:8080/"
    },
    "id": "8tamyioIE0qz",
    "outputId": "ca813f4b-7fb7-4c7f-b857-ac68c4090170"
   },
   "outputs": [
    {
     "name": "stdout",
     "output_type": "stream",
     "text": [
      "[[0 1]\n",
      " [2 3]\n",
      " [4 5]]\n",
      "[[0 2 4]\n",
      " [1 3 5]]\n"
     ]
    }
   ],
   "source": [
    "print(y)\n",
    "print(y.transpose(1, 0))"
   ]
  },
  {
   "cell_type": "markdown",
   "metadata": {
    "id": "iv8RkqLKE0q0"
   },
   "source": [
    "You can also say transpose is to permutate the order of the dimension of the NumPy array, as demonstrated below."
   ]
  },
  {
   "cell_type": "code",
   "execution_count": null,
   "metadata": {
    "colab": {
     "base_uri": "https://localhost:8080/"
    },
    "id": "Imdk7GyFE0q0",
    "outputId": "d8208bfc-5cd0-4a5a-929e-4bca5181a2f2"
   },
   "outputs": [
    {
     "name": "stdout",
     "output_type": "stream",
     "text": [
      "[0 2]\n",
      "[0 2]\n"
     ]
    }
   ],
   "source": [
    "x = np.arange(8).reshape(2,2,2)   # x = [ [ [0 1]\n",
    "                                  #         [2 3] ]\n",
    "                                  #       [ [4 5]\n",
    "                                  #         [6 7] ] ]\n",
    "                                  # The 1st dimension refers to which layer,\n",
    "                                  # the 2nd dimension refers to which row,\n",
    "                                  # the 3rd dimension refers to which column\n",
    "print(x[0, :, 0])                 # The second axis of x\n",
    "x_1 = x.transpose((1, 0, 2))      # x_1 equals to swapping the first and second axis\n",
    "print(x_1[:, 0, 0])               # The first axis of x_1"
   ]
  },
  {
   "cell_type": "markdown",
   "source": [
    "Let's work on some examples together."
   ],
   "metadata": {
    "id": "sufCUsGwcjOB"
   }
  },
  {
   "cell_type": "code",
   "source": [
    "# generate an array with shape (8, 2, 5, 3) containing all zeros\n",
    "arr = ...?\n",
    "\n",
    "# what is the output shape after the following transposing?\n",
    "arr_transposed = arr.transpose(1, 0, 2, 3)\n",
    "\n",
    "# what is the output shape after the following sum?\n",
    "arr_summed = arr.sum(axis=(1, 3))\n"
   ],
   "metadata": {
    "id": "HcartyBIclbQ"
   },
   "execution_count": null,
   "outputs": []
  },
  {
   "cell_type": "markdown",
   "metadata": {
    "id": "e-XxJpsBE0q1"
   },
   "source": [
    "## More on `reshape`\n",
    "\n",
    "So you might ask, why do we need to reshape the array at all if most of the time it doesn't make any mathematical sense? One of the answers is that sometimes, the number of dimensions of the arrays is not enough. For example, we mentioned we could add a new axis using reshape. We can add however many axes we like to the array. The reshape would always be valid as long as the product of each axis is the same as the total amount of elements in the array. For example,"
   ]
  },
  {
   "cell_type": "code",
   "execution_count": null,
   "metadata": {
    "colab": {
     "base_uri": "https://localhost:8080/"
    },
    "id": "zr7IqQ3PE0q2",
    "outputId": "8ac5bb82-125b-46eb-926b-428d83e6d92e"
   },
   "outputs": [
    {
     "data": {
      "text/plain": [
       "array([[[0],\n",
       "        [1],\n",
       "        [2]],\n",
       "\n",
       "       [[3],\n",
       "        [4],\n",
       "        [5]]])"
      ]
     },
     "execution_count": 21,
     "metadata": {},
     "output_type": "execute_result"
    }
   ],
   "source": [
    "x = np.arange(6)  # x = [0 1 2 3 4 5]\n",
    "x.reshape((2, 3)) # Valid, x = [[ 0 1 2 ]\n",
    "                  #             [ 3 4 5 ]]\n",
    "x.reshape((6, 1)) # Valid, x = [[0]\n",
    "                  #             [1]\n",
    "                  #             [2]\n",
    "                  #             [3]\n",
    "                  #             [4]\n",
    "                  #             [5]\n",
    "                  #             [6]]\n",
    "x.reshape((2, 3, 1, 1, 1, 1, 1, 1)) # Valid, and probably too much axes\n",
    "x.reshape((2, 3, -1)) # Valid. -1 means let NumPy decide the size of that axis. What is the last dimension?\n",
    "# x.reshape((3, 3))   # Invalid, 3x3=9, but only 6 elements are presented"
   ]
  },
  {
   "cell_type": "markdown",
   "metadata": {
    "id": "Y29eLrhOt38e"
   },
   "source": [
    "# Conclusion\n",
    "\n",
    "NumPy provides various functions to enable efficient scientific research and engineering calculations. It keeps the simplicity of Python while allowing users to do complex computation tasks. It is a very important and useful tool if you want to dive deeper into machine learning. Even though you might use other libraries in the future, many of the functions in NumPy are transferable.\n"
   ]
  },
  {
   "cell_type": "code",
   "execution_count": null,
   "metadata": {
    "id": "IyaS2hsDE0q9"
   },
   "outputs": [],
   "source": [
    "### This is the end of the review.\n",
    "### Referenced from COMP2211 notes and NumPy official documentations"
   ]
  }
 ],
 "metadata": {
  "colab": {
   "provenance": [],
   "toc_visible": true
  },
  "interpreter": {
   "hash": "31f2aee4e71d21fbe5cf8b01ff0e069b9275f58929596ceb00d14d90e3e16cd6"
  },
  "kernelspec": {
   "display_name": "Python 3.9.7 64-bit",
   "language": "python",
   "name": "python3"
  },
  "language_info": {
   "codemirror_mode": {
    "name": "ipython",
    "version": 3
   },
   "file_extension": ".py",
   "mimetype": "text/x-python",
   "name": "python",
   "nbconvert_exporter": "python",
   "pygments_lexer": "ipython3",
   "version": "3.9.17"
  },
  "orig_nbformat": 4
 },
 "nbformat": 4,
 "nbformat_minor": 0
}
